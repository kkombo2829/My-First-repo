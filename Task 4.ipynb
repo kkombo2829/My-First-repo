{
 "cells": [
  {
   "cell_type": "markdown",
   "metadata": {},
   "source": [
    "# Variational quantum eigensolvers for solving this matrix:   \n",
    "\\begin{bmatrix} \n",
    "1 & 0& 0&0\\\\ \n",
    "0& 0& -1&0\\\\\n",
    "0 & -1 &0&0\\\\\n",
    "0&0&0&1\\\\\n",
    "\\end{bmatrix} \n"
   ]
  },
  {
   "cell_type": "markdown",
   "metadata": {},
   "source": [
    "<b>We do this on 3 steps :</b>\n",
    "<ol>\n",
    "<li>Constructing the anzatz</li>\n",
    "<li>Hamiltonian</li>\n",
    "<li>Do the measurements</li>\n",
    "</ol> "
   ]
  },
  {
   "cell_type": "markdown",
   "metadata": {},
   "source": [
    "## I am going to use Qiskit & Scipy"
   ]
  },
  {
   "cell_type": "code",
   "execution_count": 4,
   "metadata": {},
   "outputs": [],
   "source": [
    "import numpy as np; pi = np.pi\n",
    "from qiskit import QuantumCircuit, Aer, execute\n",
    "from scipy.optimize import minimize\n",
    "from qiskit.visualization import plot_histogram\n",
    "from qiskit.circuit.library.standard_gates import U2Gate\n",
    "from copy import deepcopy as make_copy"
   ]
  },
  {
   "cell_type": "code",
   "execution_count": null,
   "metadata": {},
   "outputs": [],
   "source": []
  },
  {
   "cell_type": "markdown",
   "metadata": {},
   "source": [
    "# First preparing the anzatz: \n",
    "using the hint that in the <b>screening Task paper</b> the anzatz is consisting of **-**$R_{x}$ ,**Cnot** and **H** **-** Rotation X, Controlled not and Hadmard gates with depth of the circuit is equal to   **D=2**.\n"
   ]
  },
  {
   "cell_type": "code",
   "execution_count": 5,
   "metadata": {},
   "outputs": [],
   "source": [
    "def prepare_anz_circuit(depth, angle1):\n",
    "\n",
    "    \"\"\"\n",
    "    This function accepts two arguments it takes the depth and the angle  arguments and performs\n",
    "    some operations. First it create the quantum circuit. second it perform the anzatz constructions\n",
    "    by applying rotation x in first qubit and then applying controlled not on the two qubits then \n",
    "    we apply the hadmard gate on first qubit. We performs this operations in the range of the depth \n",
    "    that we passed.\n",
    "    \"\"\"\n",
    "    anz_circ = QuantumCircuit(depth)\n",
    "    for i in range(depth): \n",
    "        anz_circ.rx(angle1[0], 0) \n",
    "        anz_circ.cx(0, 1) \n",
    "        anz_circ.h(0)\n",
    "        \n",
    "    return anz_circ \n",
    "\n"
   ]
  },
  {
   "cell_type": "code",
   "execution_count": null,
   "metadata": {},
   "outputs": [],
   "source": []
  },
  {
   "cell_type": "markdown",
   "metadata": {},
   "source": [
    "# Second constructing the Hamiltonian: \n",
    "## after the calculations I find the Hamiltonian is equal to: \n",
    "### H=0.5* $Z\\bigotimes Z $- 0.5* $X\\bigotimes X$+ 0.5* $I\\bigotimes I$ - 0.5* $Y\\bigotimes Y$"
   ]
  },
  {
   "cell_type": "code",
   "execution_count": null,
   "metadata": {},
   "outputs": [],
   "source": []
  },
  {
   "cell_type": "markdown",
   "metadata": {},
   "source": [
    "# Third Doing the measurements: \n"
   ]
  },
  {
   "cell_type": "markdown",
   "metadata": {},
   "source": [
    "### first we define a measurements expression for **Z** measurements than we calculate the expectation value for it $\\langle ZZ \\rangle$"
   ]
  },
  {
   "cell_type": "code",
   "execution_count": 6,
   "metadata": {},
   "outputs": [],
   "source": [
    "simulator = Aer.get_backend('qasm_simulator')"
   ]
  },
  {
   "cell_type": "code",
   "execution_count": 7,
   "metadata": {},
   "outputs": [],
   "source": [
    "def measure_zz_circuit(angle2):\n",
    "    \n",
    "    \"\"\"\n",
    "    This function does  the zz measurements.It takes one arguments that one arguments the angle and \n",
    "    passes it to the prepare anzatz function then we make the copy if the circuit then we measure it.\n",
    "    \"\"\"\n",
    "    hets_circuit =prepare_anz_circuit(2,angle2)\n",
    "    zz_meas = make_copy(hets_circuit)\n",
    "    zz_meas.measure_all()\n",
    "    return zz_meas"
   ]
  },
  {
   "cell_type": "code",
   "execution_count": 8,
   "metadata": {},
   "outputs": [],
   "source": [
    "def measure_zz(angle2, num_shots = 10000):\n",
    "      \n",
    "        \n",
    "        \"\"\"\n",
    "       This function calculates the expectation value for <ZZ>. It takes two arguments the angle and \n",
    "       the number of shots and then after doing the measurements we get the expectation value for <ZZ>.\n",
    "        \"\"\"\n",
    "        zz_meas = measure_zz_circuit(angle2)\n",
    "        \n",
    "        result = execute(zz_meas, backend = simulator, shots = num_shots).result()\n",
    "        counts = result.get_counts(zz_meas)\n",
    "\n",
    "        if '00' not in counts:\n",
    "            counts['00'] = 0\n",
    "        if '01' not in counts:\n",
    "            counts['01'] = 0\n",
    "        if '10' not in counts:\n",
    "            counts['10'] = 0\n",
    "        if '11' not in counts:\n",
    "            counts['11'] = 0 \n",
    "\n",
    "        total_counts = counts['00'] + counts['11'] + counts['01'] + counts['10']\n",
    "        zz = counts['00'] + counts['11'] - counts['01'] - counts['10']\n",
    "        zz = zz / total_counts\n",
    "    \n",
    "        return zz\n",
    "\n",
    "\n",
    "    \n",
    "    "
   ]
  },
  {
   "cell_type": "code",
   "execution_count": null,
   "metadata": {},
   "outputs": [],
   "source": []
  },
  {
   "cell_type": "markdown",
   "metadata": {},
   "source": [
    "### First we define a measurements expression for **X** measurements than we calculate the expectation value for it $\\langle XX \\rangle$"
   ]
  },
  {
   "cell_type": "markdown",
   "metadata": {},
   "source": [
    "\n",
    "#### I want to demonstrate why i use Hadmard gate before doing the measurements: \n",
    "we need to measure in computational basis**$| 0 \\rangle$** and **$| 1\\rangle$** so we need to change the basis of **X** which is **$|i\\rangle$** and **$|-i\\rangle$** so we need unitary transformation that do this so After the calculation it turns out that it we need to perform hadmard transformation so that we can do our the measurements in computational basis.\n"
   ]
  },
  {
   "cell_type": "code",
   "execution_count": 9,
   "metadata": {},
   "outputs": [],
   "source": [
    "\n",
    "def measure_xx_circuit(angle2):\n",
    "    \"\"\"\n",
    "    This function does the xx measurements.It takes one arguments that one arguments the angle and \n",
    "    passes it to the prepare anzatz function then we make the copy if the circuit then we measure it.\n",
    "   \"\"\"\n",
    "    hets_circuit =prepare_anz_circuit(2,angle2)\n",
    "    xx_meas = make_copy(hets_circuit)\n",
    "        \n",
    "    xx_meas.h(0)\n",
    "    xx_meas.h(1)\n",
    "    xx_meas.measure_all()\n",
    "    \n",
    "    return xx_meas\n"
   ]
  },
  {
   "cell_type": "code",
   "execution_count": 10,
   "metadata": {},
   "outputs": [],
   "source": [
    "\n",
    "def measure_xx(angle2, num_shots = 10000):\n",
    "    \"\"\"\n",
    "    This function calculates the expectation value for <ZZ>. It takes two arguments the angle and \n",
    "    the number of shots and then after doing the measurements we get the expectation value for <ZZ>.\n",
    "    \"\"\"\n",
    "    xx_meas = measure_xx_circuit(angle2)\n",
    "    \n",
    "    result = execute(xx_meas, backend = simulator, shots = num_shots).result()\n",
    "    counts = result.get_counts(xx_meas)\n",
    "\n",
    "    if '00' not in counts:\n",
    "        counts['00'] = 0\n",
    "    if '01' not in counts:\n",
    "        counts['01'] = 0\n",
    "    if '10' not in counts:\n",
    "        counts['10'] = 0\n",
    "    if '11' not in counts:\n",
    "        counts['11'] = 0\n",
    "\n",
    "    total_counts = counts['00'] + counts['11'] + counts['01'] + counts['10']\n",
    "    xx = counts['00'] + counts['11'] - counts['01'] - counts['10']\n",
    "    xx = xx / total_counts\n",
    "    \n",
    "    return xx\n",
    "    "
   ]
  },
  {
   "cell_type": "code",
   "execution_count": null,
   "metadata": {},
   "outputs": [],
   "source": []
  },
  {
   "cell_type": "markdown",
   "metadata": {},
   "source": [
    "### First we define a measurements expression for **Y** measurements than we calculate the expectation value for it $\\langle YY \\rangle$."
   ]
  },
  {
   "cell_type": "markdown",
   "metadata": {},
   "source": [
    "#### I want to demonstrate why i use Y gate before doing the measurements: \n",
    "we need to measure in computational basis**$| 0 \\rangle$** and **$| 1\\rangle$** so we need to change the basis of **X** which is **$|+\\rangle$** and **$| -\\rangle$** so we need unitary transformation that do this so After the calculation it turns out that it we need to perform Y transformation so that we can do our the measurements in computational basis. This **Y**  transformation is in the form of \n",
    "\\begin{equation*}\n",
    "Y_{gate}= \\frac{1}{\\sqrt{2}}\n",
    "\\begin{bmatrix} \n",
    "1&-i\\\\ \n",
    "1&i\n",
    "\\end{bmatrix}\n",
    "\\end{equation*}\n",
    "so I use the **u gate** that is in qiskit which in form with **$\\phi$ =pi/2** and **$\\lambda$=0**\n",
    "\\begin{equation*}\n",
    "u_{gate}(\\phi,\\lambda)= \\frac{1}{\\sqrt{2}}\n",
    "\\begin{bmatrix} \n",
    "1&-e^{i\\lambda}\\\\ \n",
    "e^{\\phi\\lambda}&e^{i(\\phi+\\lambda)}\n",
    "\\end{bmatrix}\n",
    "\\end{equation*}"
   ]
  },
  {
   "cell_type": "code",
   "execution_count": 11,
   "metadata": {},
   "outputs": [],
   "source": [
    "def measure_yy_circuit(angle1):\n",
    "  \n",
    "    \"\"\"\n",
    "    This function does the yy measurements.It takes one arguments that one arguments the angle and \n",
    "    passes it to the prepare anzatz function then we make the copy if the circuit then we measure it.\n",
    "    \"\"\"\n",
    "\n",
    "    anz_circuit = prepare_anz_circuit(2,angle1)\n",
    "    yy_meas= make_copy(anz_circuit)\n",
    "\n",
    "    \n",
    "    yy_meas.u2(0, np.pi/2, 0)\n",
    "    yy_meas.u2(0, np.pi/2, 1)\n",
    "    yy_meas.measure_all()\n",
    "    \n",
    "\n",
    "    return yy_meas\n"
   ]
  },
  {
   "cell_type": "code",
   "execution_count": 12,
   "metadata": {},
   "outputs": [],
   "source": [
    "\n",
    " def measure_yy(angle1, num_shots = 10000):\n",
    "    \"\"\"\n",
    "    This function calculates the expectation value for <YY>. It takes two arguments the angle and \n",
    "    the number of shots and then after doing the measurements we get the expectation value for <YY>.\n",
    "    \"\"\"\n",
    "    yy_meas = measure_yy_circuit(angle1)\n",
    "    \n",
    "    result = execute(yy_meas, backend = simulator, shots = num_shots).result()\n",
    "    counts = result.get_counts(yy_meas)\n",
    "\n",
    "    if '00' not in counts:\n",
    "        counts['00'] = 0\n",
    "    if '01' not in counts:\n",
    "        counts['01'] = 0\n",
    "    if '10' not in counts:\n",
    "        counts['10'] = 0\n",
    "    if '11' not in counts:\n",
    "        counts['11'] = 0 \n",
    "\n",
    "    total_counts = counts['00'] + counts['11'] + counts['01'] + counts['10']\n",
    "    yy = counts['00'] + counts['11'] - counts['01'] - counts['10']\n",
    "    yy = yy / total_counts\n",
    "    \n",
    "    return yy"
   ]
  },
  {
   "cell_type": "code",
   "execution_count": 13,
   "metadata": {},
   "outputs": [],
   "source": [
    "def get_ev(angle2, num_shots = 10000):\n",
    "    \"\"\"\n",
    "    This  function calculate the eigenvalue for our matrix. It takes 2 parameters the angle and num \n",
    "    of shots and then call the measurements function and then calculate the energy using the\n",
    "    Hamiltonian that we calculate and done.\n",
    "    \"\"\"\n",
    "    zz= measure_zz(angle2, num_shots = num_shots)\n",
    "    xx= measure_xx(angle2, num_shots = num_shots)\n",
    "    yy= measure_yy(angle2, num_shots = num_shots)\n",
    "\n",
    "    energy =0.5*zz-0.5*xx+0.5-0.5*yy\n",
    "    return energy"
   ]
  },
  {
   "cell_type": "code",
   "execution_count": 14,
   "metadata": {},
   "outputs": [
    {
     "name": "stdout",
     "output_type": "stream",
     "text": [
      "The estimated ground state energy from VQE algorithm is: -1.0\n"
     ]
    }
   ],
   "source": [
    "arr = np.array([np.pi, np.pi])\n",
    "tol = 1e-3 # tolerance for optimization precision.\n",
    "l_eigen_value= minimize(get_ev, arr, method=\"Powell\", tol=tol)\n",
    "print('The estimated ground state energy from VQE algorithm is: {}'.format(l_eigen_value.fun))\n"
   ]
  },
  {
   "cell_type": "code",
   "execution_count": null,
   "metadata": {},
   "outputs": [],
   "source": []
  }
 ],
 "metadata": {
  "kernelspec": {
   "display_name": "Python 3",
   "language": "python",
   "name": "python3"
  },
  "language_info": {
   "codemirror_mode": {
    "name": "ipython",
    "version": 3
   },
   "file_extension": ".py",
   "mimetype": "text/x-python",
   "name": "python",
   "nbconvert_exporter": "python",
   "pygments_lexer": "ipython3",
   "version": "3.7.6"
  }
 },
 "nbformat": 4,
 "nbformat_minor": 4
}
