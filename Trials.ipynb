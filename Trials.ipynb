{
 "cells": [
  {
   "cell_type": "markdown",
   "metadata": {},
   "source": [
    "# Variational quantum eigensolvers for solving this matrix:   \n",
    "\\begin{bmatrix} % you can specify any environment according to your choice  \n",
    "1 & 0& 0&0\\\\ \n",
    "0& 0& -1&0\\\\\n",
    "0 & -1 &0&0\\\\\n",
    "0&0&0&1\\\\\n",
    "\\end{bmatrix} \n"
   ]
  },
  {
   "cell_type": "markdown",
   "metadata": {},
   "source": [
    "<b>We do this on 3 steps :</b>\n",
    "<ol>\n",
    "<li>Constructing the anzatz</li>\n",
    "<li>Hamiltonian</li>\n",
    "<li>Do the measurements</li>\n",
    "</ol> "
   ]
  },
  {
   "cell_type": "markdown",
   "metadata": {},
   "source": [
    "## I am going to use qiskit & scipy"
   ]
  },
  {
   "cell_type": "code",
   "execution_count": 165,
   "metadata": {},
   "outputs": [],
   "source": [
    "import numpy as np; pi = np.pi\n",
    "from qiskit import QuantumCircuit, Aer, execute\n",
    "from scipy.optimize import minimize\n",
    "from qiskit.visualization import plot_histogram\n",
    "from qiskit.circuit.library.standard_gates import U2Gate\n",
    "from copy import deepcopy as make_copy"
   ]
  },
  {
   "cell_type": "code",
   "execution_count": null,
   "metadata": {},
   "outputs": [],
   "source": []
  },
  {
   "cell_type": "markdown",
   "metadata": {},
   "source": [
    "# First prapering the anzatz: \n",
    "using the hint that in the <b>screening Task paper</b> the anzatz is consisiting of $R_{x}$ ,**Cnot** and **H**-Rotation X, Controlled not and Hadmard gates-with depth of the ciruct is equal to   **D=2**.\n"
   ]
  },
  {
   "cell_type": "code",
   "execution_count": 166,
   "metadata": {},
   "outputs": [],
   "source": [
    "def prepare_anz_circuit(depth, angle1):\n",
    "\n",
    "    anz_circ = QuantumCircuit(depth)\n",
    "\n",
    "    anz_circ.rx(angle1[0], 0)\n",
    "    anz_circ.cx(0, 1)\n",
    "    anz_circ.h(0)\n",
    "    anz_circ.rx(angle1[0], 0)\n",
    "    anz_circ.cx(0, 1)\n",
    "    anz_circ.h(0)\n",
    "    \n",
    "    return anz_circ "
   ]
  },
  {
   "cell_type": "markdown",
   "metadata": {},
   "source": [
    "# Second constucting the Hamiltonian: \n",
    "## after the calculations I find the hamiltonian is equal to: \n",
    "### H=0.5*$Z\\bigotimes Z $-0.5*$I\\bigotimes I$+0.5*$X\\bigotimes X$ -0.5*$Y\\bigotimes Y $"
   ]
  },
  {
   "cell_type": "markdown",
   "metadata": {},
   "source": [
    "# Third Doing the measurements: \n"
   ]
  },
  {
   "cell_type": "code",
   "execution_count": null,
   "metadata": {},
   "outputs": [],
   "source": []
  },
  {
   "cell_type": "code",
   "execution_count": 168,
   "metadata": {},
   "outputs": [
    {
     "data": {
      "image/png": "[encoded data removed]",
      "text/plain": [
       "<Figure size 900.592x204.68 with 1 Axes>"
      ]
     },
     "execution_count": 168,
     "metadata": {},
     "output_type": "execute_result"
    }
   ],
   "source": [
    "def measure_yy_circuit(angle1):\n",
    "    anz_circuit = prepare_hets_circuit(2,angle1)\n",
    "    yy_meas= make_copy(anz_circuit)\n",
    "\n",
    "    \n",
    "    ### WRITE YOUR CODE BETWEEN THESE LINES - START\n",
    "    \n",
    "    yy_meas.u2(0, np.pi/2, 0)\n",
    "    yy_meas.u2(0, np.pi/2, 1)\n",
    "    yy_meas.measure_all()\n",
    "    \n",
    "    ### WRITE YOUR CODE BETWEEN THESE LINES - END\n",
    "\n",
    "    return yy_meas\n",
    "yy =measure_yy_circuit([pi/2,pi])\n",
    "yy.draw('mpl')"
   ]
  },
  {
   "cell_type": "code",
   "execution_count": 169,
   "metadata": {},
   "outputs": [],
   "source": [
    " def measure_yy(angle1, num_shots = 10000):\n",
    "\n",
    "    yy_meas = measure_yy_circuit(angle1)\n",
    "    \n",
    "    result = execute(yy_meas, backend = simulator, shots = num_shots).result()\n",
    "    counts = result.get_counts(yy_meas)\n",
    "\n",
    "    if '00' not in counts:\n",
    "        counts['00'] = 0\n",
    "    if '01' not in counts:\n",
    "        counts['01'] = 0\n",
    "    if '10' not in counts:\n",
    "        counts['10'] = 0\n",
    "    if '11' not in counts:\n",
    "        counts['11'] = 0 \n",
    "\n",
    "    total_counts = counts['00'] + counts['11'] + counts['01'] + counts['10']\n",
    "    yy = counts['00'] + counts['11'] - counts['01'] - counts['10']\n",
    "    yy = yy / total_counts\n",
    "    \n",
    "    return yy\n",
    "#yy = measure_yy([pi,pi])\n",
    "#print(\"<YY> =\", str(yy))"
   ]
  },
  {
   "cell_type": "code",
   "execution_count": null,
   "metadata": {},
   "outputs": [],
   "source": []
  },
  {
   "cell_type": "code",
   "execution_count": null,
   "metadata": {},
   "outputs": [],
   "source": []
  },
  {
   "cell_type": "code",
   "execution_count": 160,
   "metadata": {},
   "outputs": [],
   "source": [
    "def measure_xx_circuit(angle2):\n",
    "        \n",
    "    hets_circuit =prepare_hets_circuit(2,angle2)\n",
    "    xx_meas = make_copy(hets_circuit)\n",
    "    \n",
    "    ### WRITE YOUR CODE BETWEEN THESE LINES - START\n",
    "    \n",
    "    xx_meas.h(0)\n",
    "    xx_meas.h(1)\n",
    "    xx_meas.measure_all()\n",
    "    \n",
    "    ### WRITE YOUR CODE BETWEEN THESE LINES - END\n",
    "\n",
    "    return xx_meas"
   ]
  },
  {
   "cell_type": "code",
   "execution_count": 161,
   "metadata": {},
   "outputs": [],
   "source": [
    "def measure_xx(angle2, num_shots = 10000):\n",
    "    \n",
    "    xx_meas = measure_xx_circuit(angle2)\n",
    "    \n",
    "    result = execute(xx_meas, backend = simulator, shots = num_shots).result()\n",
    "    counts = result.get_counts(xx_meas)\n",
    "\n",
    "    if '00' not in counts:\n",
    "        counts['00'] = 0\n",
    "    if '01' not in counts:\n",
    "        counts['01'] = 0\n",
    "    if '10' not in counts:\n",
    "        counts['10'] = 0\n",
    "    if '11' not in counts:\n",
    "        counts['11'] = 0\n",
    "\n",
    "    total_counts = counts['00'] + counts['11'] + counts['01'] + counts['10']\n",
    "    xx = counts['00'] + counts['11'] - counts['01'] - counts['10']\n",
    "    xx = xx / total_counts\n",
    "    \n",
    "    return xx\n",
    "\n",
    "#xx = measure_xx(hets_circuit)\n",
    "#print(\"<XX> =\", str(xx))"
   ]
  },
  {
   "cell_type": "code",
   "execution_count": null,
   "metadata": {},
   "outputs": [],
   "source": []
  },
  {
   "cell_type": "code",
   "execution_count": null,
   "metadata": {},
   "outputs": [],
   "source": []
  },
  {
   "cell_type": "code",
   "execution_count": 127,
   "metadata": {},
   "outputs": [],
   "source": [
    "def measure_zz_circuit(angle2):\n",
    "    hets_circuit =prepare_hets_circuit(2,angle2)\n",
    "    zz_meas = make_copy(hets_circuit)\n",
    "    zz_meas.measure_all()\n",
    "    return zz_meas\n"
   ]
  },
  {
   "cell_type": "code",
   "execution_count": 128,
   "metadata": {},
   "outputs": [],
   "source": [
    "def measure_zz(angle2, num_shots = 10000):\n",
    "    zz_meas = measure_zz_circuit(angle2)\n",
    "    \n",
    "    result = execute(zz_meas, backend = simulator, shots = num_shots).result()\n",
    "    counts = result.get_counts(zz_meas)\n",
    "\n",
    "    if '00' not in counts:\n",
    "        counts['00'] = 0\n",
    "    if '01' not in counts:\n",
    "        counts['01'] = 0\n",
    "    if '10' not in counts:\n",
    "        counts['10'] = 0\n",
    "    if '11' not in counts:\n",
    "        counts['11'] = 0 \n",
    "\n",
    "    total_counts = counts['00'] + counts['11'] + counts['01'] + counts['10']\n",
    "    zz = counts['00'] + counts['11'] - counts['01'] - counts['10']\n",
    "    zz = zz / total_counts\n",
    "    \n",
    "    return zz"
   ]
  },
  {
   "cell_type": "code",
   "execution_count": 129,
   "metadata": {},
   "outputs": [],
   "source": [
    "def get_energy(angle2, num_shots = 10000):\n",
    "    \n",
    "    zz= measure_zz(angle2, num_shots = num_shots)\n",
    "    xx= measure_xx(angle2, num_shots = num_shots)\n",
    "    yy= measure_yy(angle2, num_shots = num_shots)\n",
    "\n",
    "    energy =0.5*zz-0.5*xx+0.5-0.5*yy\n",
    "    return energy"
   ]
  },
  {
   "cell_type": "code",
   "execution_count": 130,
   "metadata": {},
   "outputs": [
    {
     "name": "stdout",
     "output_type": "stream",
     "text": [
      "The estimated ground state energy from VQE algorithm is: -1.0\n"
     ]
    }
   ],
   "source": [
    "parameters_array = np.array([np.pi, np.pi])\n",
    "tol = 1e-3 # tolerance for optimization precision.\n",
    "vqe_result = minimize(get_energy, parameters_array, method=\"Powell\", tol=tol)\n",
    "print('The estimated ground state energy from VQE algorithm is: {}'.format(vqe_result.fun))\n"
   ]
  },
  {
   "cell_type": "code",
   "execution_count": null,
   "metadata": {},
   "outputs": [],
   "source": []
  }
 ],
 "metadata": {
  "kernelspec": {
   "display_name": "Python 3",
   "language": "python",
   "name": "python3"
  },
  "language_info": {
   "codemirror_mode": {
    "name": "ipython",
    "version": 3
   },
   "file_extension": ".py",
   "mimetype": "text/x-python",
   "name": "python",
   "nbconvert_exporter": "python",
   "pygments_lexer": "ipython3",
   "version": "3.7.6"
  }
 },
 "nbformat": 4,
 "nbformat_minor": 4
}
